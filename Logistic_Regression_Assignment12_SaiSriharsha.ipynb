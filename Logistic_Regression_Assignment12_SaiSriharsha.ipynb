{
  "nbformat": 4,
  "nbformat_minor": 0,
  "metadata": {
    "colab": {
      "name": "Logistic_Regression_Assignment12_SaiSriharsha.ipynb",
      "provenance": [],
      "collapsed_sections": []
    },
    "kernelspec": {
      "name": "python3",
      "display_name": "Python 3"
    },
    "language_info": {
      "name": "python"
    }
  },
  "cells": [
    {
      "cell_type": "code",
      "metadata": {
        "id": "xugUQsM_jkbL"
      },
      "source": [
        "# Social_Network_Ads.csv"
      ],
      "execution_count": null,
      "outputs": []
    },
    {
      "cell_type": "markdown",
      "metadata": {
        "id": "t_YJ-uqLmRuD"
      },
      "source": [
        "This dataset contains information of users in a social network. Those informations are the user id the gender the age and the estimated salary. A car company has just launched their brand new luxury SUV. And we're trying to see which of these users of the social network are going to buy this brand new SUV And the last column here tells If yes or no the user bought this SUV we are going to build a model that is going to predict if a user is going to buy or not the SUV based on two variables which are going to be the age and the estimated salary. So our matrix of feature is only going to be these two columns. We want to find some correlations between the age and the estimated salary of a user and his decision to purchase yes or no the SUV.\n"
      ]
    },
    {
      "cell_type": "markdown",
      "metadata": {
        "id": "sgTgwccsk5Yu"
      },
      "source": [
        "**Step 1 | Data Pre-Processing**"
      ]
    },
    {
      "cell_type": "markdown",
      "metadata": {
        "id": "bKWN0MOblEKa"
      },
      "source": [
        "**Importing the Libraries**"
      ]
    },
    {
      "cell_type": "code",
      "metadata": {
        "id": "8cIjONoJj8u0"
      },
      "source": [
        "import pandas as pd"
      ],
      "execution_count": null,
      "outputs": []
    },
    {
      "cell_type": "code",
      "metadata": {
        "id": "2QZwg6ypj8xs"
      },
      "source": [
        "import sklearn\n",
        "from sklearn.model_selection import train_test_split\n",
        "from sklearn.linear_model import LogisticRegression"
      ],
      "execution_count": null,
      "outputs": []
    },
    {
      "cell_type": "markdown",
      "metadata": {
        "id": "bM9O8a0YlNWk"
      },
      "source": [
        "**Importing the dataset**"
      ]
    },
    {
      "cell_type": "code",
      "metadata": {
        "id": "vfPLWJHRlM-4"
      },
      "source": [
        "data = pd.read_csv(\"/content/Social_Network_Ads.csv\")"
      ],
      "execution_count": null,
      "outputs": []
    },
    {
      "cell_type": "code",
      "metadata": {
        "id": "8LWipIjDj7yn",
        "colab": {
          "base_uri": "https://localhost:8080/",
          "height": 423
        },
        "outputId": "71723a78-36ec-4baa-9333-1018281a4ad2"
      },
      "source": [
        "data"
      ],
      "execution_count": null,
      "outputs": [
        {
          "output_type": "execute_result",
          "data": {
            "text/plain": [
              "      User ID  Gender  Age  EstimatedSalary  Purchased\n",
              "0    15624510    Male   19            19000          0\n",
              "1    15810944    Male   35            20000          0\n",
              "2    15668575  Female   26            43000          0\n",
              "3    15603246  Female   27            57000          0\n",
              "4    15804002    Male   19            76000          0\n",
              "..        ...     ...  ...              ...        ...\n",
              "395  15691863  Female   46            41000          1\n",
              "396  15706071    Male   51            23000          1\n",
              "397  15654296  Female   50            20000          1\n",
              "398  15755018    Male   36            33000          0\n",
              "399  15594041  Female   49            36000          1\n",
              "\n",
              "[400 rows x 5 columns]"
            ],
            "text/html": [
              "\n",
              "  <div id=\"df-49c50bfe-d465-4534-8dfb-73ca3ee80d74\">\n",
              "    <div class=\"colab-df-container\">\n",
              "      <div>\n",
              "<style scoped>\n",
              "    .dataframe tbody tr th:only-of-type {\n",
              "        vertical-align: middle;\n",
              "    }\n",
              "\n",
              "    .dataframe tbody tr th {\n",
              "        vertical-align: top;\n",
              "    }\n",
              "\n",
              "    .dataframe thead th {\n",
              "        text-align: right;\n",
              "    }\n",
              "</style>\n",
              "<table border=\"1\" class=\"dataframe\">\n",
              "  <thead>\n",
              "    <tr style=\"text-align: right;\">\n",
              "      <th></th>\n",
              "      <th>User ID</th>\n",
              "      <th>Gender</th>\n",
              "      <th>Age</th>\n",
              "      <th>EstimatedSalary</th>\n",
              "      <th>Purchased</th>\n",
              "    </tr>\n",
              "  </thead>\n",
              "  <tbody>\n",
              "    <tr>\n",
              "      <th>0</th>\n",
              "      <td>15624510</td>\n",
              "      <td>Male</td>\n",
              "      <td>19</td>\n",
              "      <td>19000</td>\n",
              "      <td>0</td>\n",
              "    </tr>\n",
              "    <tr>\n",
              "      <th>1</th>\n",
              "      <td>15810944</td>\n",
              "      <td>Male</td>\n",
              "      <td>35</td>\n",
              "      <td>20000</td>\n",
              "      <td>0</td>\n",
              "    </tr>\n",
              "    <tr>\n",
              "      <th>2</th>\n",
              "      <td>15668575</td>\n",
              "      <td>Female</td>\n",
              "      <td>26</td>\n",
              "      <td>43000</td>\n",
              "      <td>0</td>\n",
              "    </tr>\n",
              "    <tr>\n",
              "      <th>3</th>\n",
              "      <td>15603246</td>\n",
              "      <td>Female</td>\n",
              "      <td>27</td>\n",
              "      <td>57000</td>\n",
              "      <td>0</td>\n",
              "    </tr>\n",
              "    <tr>\n",
              "      <th>4</th>\n",
              "      <td>15804002</td>\n",
              "      <td>Male</td>\n",
              "      <td>19</td>\n",
              "      <td>76000</td>\n",
              "      <td>0</td>\n",
              "    </tr>\n",
              "    <tr>\n",
              "      <th>...</th>\n",
              "      <td>...</td>\n",
              "      <td>...</td>\n",
              "      <td>...</td>\n",
              "      <td>...</td>\n",
              "      <td>...</td>\n",
              "    </tr>\n",
              "    <tr>\n",
              "      <th>395</th>\n",
              "      <td>15691863</td>\n",
              "      <td>Female</td>\n",
              "      <td>46</td>\n",
              "      <td>41000</td>\n",
              "      <td>1</td>\n",
              "    </tr>\n",
              "    <tr>\n",
              "      <th>396</th>\n",
              "      <td>15706071</td>\n",
              "      <td>Male</td>\n",
              "      <td>51</td>\n",
              "      <td>23000</td>\n",
              "      <td>1</td>\n",
              "    </tr>\n",
              "    <tr>\n",
              "      <th>397</th>\n",
              "      <td>15654296</td>\n",
              "      <td>Female</td>\n",
              "      <td>50</td>\n",
              "      <td>20000</td>\n",
              "      <td>1</td>\n",
              "    </tr>\n",
              "    <tr>\n",
              "      <th>398</th>\n",
              "      <td>15755018</td>\n",
              "      <td>Male</td>\n",
              "      <td>36</td>\n",
              "      <td>33000</td>\n",
              "      <td>0</td>\n",
              "    </tr>\n",
              "    <tr>\n",
              "      <th>399</th>\n",
              "      <td>15594041</td>\n",
              "      <td>Female</td>\n",
              "      <td>49</td>\n",
              "      <td>36000</td>\n",
              "      <td>1</td>\n",
              "    </tr>\n",
              "  </tbody>\n",
              "</table>\n",
              "<p>400 rows × 5 columns</p>\n",
              "</div>\n",
              "      <button class=\"colab-df-convert\" onclick=\"convertToInteractive('df-49c50bfe-d465-4534-8dfb-73ca3ee80d74')\"\n",
              "              title=\"Convert this dataframe to an interactive table.\"\n",
              "              style=\"display:none;\">\n",
              "        \n",
              "  <svg xmlns=\"http://www.w3.org/2000/svg\" height=\"24px\"viewBox=\"0 0 24 24\"\n",
              "       width=\"24px\">\n",
              "    <path d=\"M0 0h24v24H0V0z\" fill=\"none\"/>\n",
              "    <path d=\"M18.56 5.44l.94 2.06.94-2.06 2.06-.94-2.06-.94-.94-2.06-.94 2.06-2.06.94zm-11 1L8.5 8.5l.94-2.06 2.06-.94-2.06-.94L8.5 2.5l-.94 2.06-2.06.94zm10 10l.94 2.06.94-2.06 2.06-.94-2.06-.94-.94-2.06-.94 2.06-2.06.94z\"/><path d=\"M17.41 7.96l-1.37-1.37c-.4-.4-.92-.59-1.43-.59-.52 0-1.04.2-1.43.59L10.3 9.45l-7.72 7.72c-.78.78-.78 2.05 0 2.83L4 21.41c.39.39.9.59 1.41.59.51 0 1.02-.2 1.41-.59l7.78-7.78 2.81-2.81c.8-.78.8-2.07 0-2.86zM5.41 20L4 18.59l7.72-7.72 1.47 1.35L5.41 20z\"/>\n",
              "  </svg>\n",
              "      </button>\n",
              "      \n",
              "  <style>\n",
              "    .colab-df-container {\n",
              "      display:flex;\n",
              "      flex-wrap:wrap;\n",
              "      gap: 12px;\n",
              "    }\n",
              "\n",
              "    .colab-df-convert {\n",
              "      background-color: #E8F0FE;\n",
              "      border: none;\n",
              "      border-radius: 50%;\n",
              "      cursor: pointer;\n",
              "      display: none;\n",
              "      fill: #1967D2;\n",
              "      height: 32px;\n",
              "      padding: 0 0 0 0;\n",
              "      width: 32px;\n",
              "    }\n",
              "\n",
              "    .colab-df-convert:hover {\n",
              "      background-color: #E2EBFA;\n",
              "      box-shadow: 0px 1px 2px rgba(60, 64, 67, 0.3), 0px 1px 3px 1px rgba(60, 64, 67, 0.15);\n",
              "      fill: #174EA6;\n",
              "    }\n",
              "\n",
              "    [theme=dark] .colab-df-convert {\n",
              "      background-color: #3B4455;\n",
              "      fill: #D2E3FC;\n",
              "    }\n",
              "\n",
              "    [theme=dark] .colab-df-convert:hover {\n",
              "      background-color: #434B5C;\n",
              "      box-shadow: 0px 1px 3px 1px rgba(0, 0, 0, 0.15);\n",
              "      filter: drop-shadow(0px 1px 2px rgba(0, 0, 0, 0.3));\n",
              "      fill: #FFFFFF;\n",
              "    }\n",
              "  </style>\n",
              "\n",
              "      <script>\n",
              "        const buttonEl =\n",
              "          document.querySelector('#df-49c50bfe-d465-4534-8dfb-73ca3ee80d74 button.colab-df-convert');\n",
              "        buttonEl.style.display =\n",
              "          google.colab.kernel.accessAllowed ? 'block' : 'none';\n",
              "\n",
              "        async function convertToInteractive(key) {\n",
              "          const element = document.querySelector('#df-49c50bfe-d465-4534-8dfb-73ca3ee80d74');\n",
              "          const dataTable =\n",
              "            await google.colab.kernel.invokeFunction('convertToInteractive',\n",
              "                                                     [key], {});\n",
              "          if (!dataTable) return;\n",
              "\n",
              "          const docLinkHtml = 'Like what you see? Visit the ' +\n",
              "            '<a target=\"_blank\" href=https://colab.research.google.com/notebooks/data_table.ipynb>data table notebook</a>'\n",
              "            + ' to learn more about interactive tables.';\n",
              "          element.innerHTML = '';\n",
              "          dataTable['output_type'] = 'display_data';\n",
              "          await google.colab.output.renderOutput(dataTable, element);\n",
              "          const docLink = document.createElement('div');\n",
              "          docLink.innerHTML = docLinkHtml;\n",
              "          element.appendChild(docLink);\n",
              "        }\n",
              "      </script>\n",
              "    </div>\n",
              "  </div>\n",
              "  "
            ]
          },
          "metadata": {},
          "execution_count": 5
        }
      ]
    },
    {
      "cell_type": "code",
      "source": [
        "data = data.drop(\"User ID\",axis=1)\n",
        "data = data.drop(\"Gender\",axis=1)\n",
        "data"
      ],
      "metadata": {
        "colab": {
          "base_uri": "https://localhost:8080/",
          "height": 423
        },
        "id": "-I-btPp8Gdod",
        "outputId": "3c75d5a1-0e33-4f08-87a8-ce2774588696"
      },
      "execution_count": null,
      "outputs": [
        {
          "output_type": "execute_result",
          "data": {
            "text/plain": [
              "     Age  EstimatedSalary  Purchased\n",
              "0     19            19000          0\n",
              "1     35            20000          0\n",
              "2     26            43000          0\n",
              "3     27            57000          0\n",
              "4     19            76000          0\n",
              "..   ...              ...        ...\n",
              "395   46            41000          1\n",
              "396   51            23000          1\n",
              "397   50            20000          1\n",
              "398   36            33000          0\n",
              "399   49            36000          1\n",
              "\n",
              "[400 rows x 3 columns]"
            ],
            "text/html": [
              "\n",
              "  <div id=\"df-e29fed57-7372-455f-9b02-02f15a5c1e32\">\n",
              "    <div class=\"colab-df-container\">\n",
              "      <div>\n",
              "<style scoped>\n",
              "    .dataframe tbody tr th:only-of-type {\n",
              "        vertical-align: middle;\n",
              "    }\n",
              "\n",
              "    .dataframe tbody tr th {\n",
              "        vertical-align: top;\n",
              "    }\n",
              "\n",
              "    .dataframe thead th {\n",
              "        text-align: right;\n",
              "    }\n",
              "</style>\n",
              "<table border=\"1\" class=\"dataframe\">\n",
              "  <thead>\n",
              "    <tr style=\"text-align: right;\">\n",
              "      <th></th>\n",
              "      <th>Age</th>\n",
              "      <th>EstimatedSalary</th>\n",
              "      <th>Purchased</th>\n",
              "    </tr>\n",
              "  </thead>\n",
              "  <tbody>\n",
              "    <tr>\n",
              "      <th>0</th>\n",
              "      <td>19</td>\n",
              "      <td>19000</td>\n",
              "      <td>0</td>\n",
              "    </tr>\n",
              "    <tr>\n",
              "      <th>1</th>\n",
              "      <td>35</td>\n",
              "      <td>20000</td>\n",
              "      <td>0</td>\n",
              "    </tr>\n",
              "    <tr>\n",
              "      <th>2</th>\n",
              "      <td>26</td>\n",
              "      <td>43000</td>\n",
              "      <td>0</td>\n",
              "    </tr>\n",
              "    <tr>\n",
              "      <th>3</th>\n",
              "      <td>27</td>\n",
              "      <td>57000</td>\n",
              "      <td>0</td>\n",
              "    </tr>\n",
              "    <tr>\n",
              "      <th>4</th>\n",
              "      <td>19</td>\n",
              "      <td>76000</td>\n",
              "      <td>0</td>\n",
              "    </tr>\n",
              "    <tr>\n",
              "      <th>...</th>\n",
              "      <td>...</td>\n",
              "      <td>...</td>\n",
              "      <td>...</td>\n",
              "    </tr>\n",
              "    <tr>\n",
              "      <th>395</th>\n",
              "      <td>46</td>\n",
              "      <td>41000</td>\n",
              "      <td>1</td>\n",
              "    </tr>\n",
              "    <tr>\n",
              "      <th>396</th>\n",
              "      <td>51</td>\n",
              "      <td>23000</td>\n",
              "      <td>1</td>\n",
              "    </tr>\n",
              "    <tr>\n",
              "      <th>397</th>\n",
              "      <td>50</td>\n",
              "      <td>20000</td>\n",
              "      <td>1</td>\n",
              "    </tr>\n",
              "    <tr>\n",
              "      <th>398</th>\n",
              "      <td>36</td>\n",
              "      <td>33000</td>\n",
              "      <td>0</td>\n",
              "    </tr>\n",
              "    <tr>\n",
              "      <th>399</th>\n",
              "      <td>49</td>\n",
              "      <td>36000</td>\n",
              "      <td>1</td>\n",
              "    </tr>\n",
              "  </tbody>\n",
              "</table>\n",
              "<p>400 rows × 3 columns</p>\n",
              "</div>\n",
              "      <button class=\"colab-df-convert\" onclick=\"convertToInteractive('df-e29fed57-7372-455f-9b02-02f15a5c1e32')\"\n",
              "              title=\"Convert this dataframe to an interactive table.\"\n",
              "              style=\"display:none;\">\n",
              "        \n",
              "  <svg xmlns=\"http://www.w3.org/2000/svg\" height=\"24px\"viewBox=\"0 0 24 24\"\n",
              "       width=\"24px\">\n",
              "    <path d=\"M0 0h24v24H0V0z\" fill=\"none\"/>\n",
              "    <path d=\"M18.56 5.44l.94 2.06.94-2.06 2.06-.94-2.06-.94-.94-2.06-.94 2.06-2.06.94zm-11 1L8.5 8.5l.94-2.06 2.06-.94-2.06-.94L8.5 2.5l-.94 2.06-2.06.94zm10 10l.94 2.06.94-2.06 2.06-.94-2.06-.94-.94-2.06-.94 2.06-2.06.94z\"/><path d=\"M17.41 7.96l-1.37-1.37c-.4-.4-.92-.59-1.43-.59-.52 0-1.04.2-1.43.59L10.3 9.45l-7.72 7.72c-.78.78-.78 2.05 0 2.83L4 21.41c.39.39.9.59 1.41.59.51 0 1.02-.2 1.41-.59l7.78-7.78 2.81-2.81c.8-.78.8-2.07 0-2.86zM5.41 20L4 18.59l7.72-7.72 1.47 1.35L5.41 20z\"/>\n",
              "  </svg>\n",
              "      </button>\n",
              "      \n",
              "  <style>\n",
              "    .colab-df-container {\n",
              "      display:flex;\n",
              "      flex-wrap:wrap;\n",
              "      gap: 12px;\n",
              "    }\n",
              "\n",
              "    .colab-df-convert {\n",
              "      background-color: #E8F0FE;\n",
              "      border: none;\n",
              "      border-radius: 50%;\n",
              "      cursor: pointer;\n",
              "      display: none;\n",
              "      fill: #1967D2;\n",
              "      height: 32px;\n",
              "      padding: 0 0 0 0;\n",
              "      width: 32px;\n",
              "    }\n",
              "\n",
              "    .colab-df-convert:hover {\n",
              "      background-color: #E2EBFA;\n",
              "      box-shadow: 0px 1px 2px rgba(60, 64, 67, 0.3), 0px 1px 3px 1px rgba(60, 64, 67, 0.15);\n",
              "      fill: #174EA6;\n",
              "    }\n",
              "\n",
              "    [theme=dark] .colab-df-convert {\n",
              "      background-color: #3B4455;\n",
              "      fill: #D2E3FC;\n",
              "    }\n",
              "\n",
              "    [theme=dark] .colab-df-convert:hover {\n",
              "      background-color: #434B5C;\n",
              "      box-shadow: 0px 1px 3px 1px rgba(0, 0, 0, 0.15);\n",
              "      filter: drop-shadow(0px 1px 2px rgba(0, 0, 0, 0.3));\n",
              "      fill: #FFFFFF;\n",
              "    }\n",
              "  </style>\n",
              "\n",
              "      <script>\n",
              "        const buttonEl =\n",
              "          document.querySelector('#df-e29fed57-7372-455f-9b02-02f15a5c1e32 button.colab-df-convert');\n",
              "        buttonEl.style.display =\n",
              "          google.colab.kernel.accessAllowed ? 'block' : 'none';\n",
              "\n",
              "        async function convertToInteractive(key) {\n",
              "          const element = document.querySelector('#df-e29fed57-7372-455f-9b02-02f15a5c1e32');\n",
              "          const dataTable =\n",
              "            await google.colab.kernel.invokeFunction('convertToInteractive',\n",
              "                                                     [key], {});\n",
              "          if (!dataTable) return;\n",
              "\n",
              "          const docLinkHtml = 'Like what you see? Visit the ' +\n",
              "            '<a target=\"_blank\" href=https://colab.research.google.com/notebooks/data_table.ipynb>data table notebook</a>'\n",
              "            + ' to learn more about interactive tables.';\n",
              "          element.innerHTML = '';\n",
              "          dataTable['output_type'] = 'display_data';\n",
              "          await google.colab.output.renderOutput(dataTable, element);\n",
              "          const docLink = document.createElement('div');\n",
              "          docLink.innerHTML = docLinkHtml;\n",
              "          element.appendChild(docLink);\n",
              "        }\n",
              "      </script>\n",
              "    </div>\n",
              "  </div>\n",
              "  "
            ]
          },
          "metadata": {},
          "execution_count": 6
        }
      ]
    },
    {
      "cell_type": "code",
      "source": [
        "x = data.drop(\"Purchased\",axis=1)\n",
        "y = data.Purchased\n",
        "y"
      ],
      "metadata": {
        "colab": {
          "base_uri": "https://localhost:8080/"
        },
        "id": "lzDFhkqtHVMT",
        "outputId": "dd9ab098-c3fa-4569-c420-5079a2a1d3da"
      },
      "execution_count": null,
      "outputs": [
        {
          "output_type": "execute_result",
          "data": {
            "text/plain": [
              "0      0\n",
              "1      0\n",
              "2      0\n",
              "3      0\n",
              "4      0\n",
              "      ..\n",
              "395    1\n",
              "396    1\n",
              "397    1\n",
              "398    0\n",
              "399    1\n",
              "Name: Purchased, Length: 400, dtype: int64"
            ]
          },
          "metadata": {},
          "execution_count": 7
        }
      ]
    },
    {
      "cell_type": "markdown",
      "metadata": {
        "id": "eHCKYPHylT5K"
      },
      "source": [
        "**Splitting the dataset into the Training set and Test set**"
      ]
    },
    {
      "cell_type": "code",
      "metadata": {
        "id": "o9msgi0sj72h",
        "colab": {
          "base_uri": "https://localhost:8080/",
          "height": 423
        },
        "outputId": "e115e1bf-f36c-4008-966a-e1cb7bba975c"
      },
      "source": [
        "x_train,x_test,y_train,y_test=train_test_split(x, y, test_size=0.2, random_state = 42)\n",
        "x_train"
      ],
      "execution_count": null,
      "outputs": [
        {
          "output_type": "execute_result",
          "data": {
            "text/plain": [
              "     Age  EstimatedSalary\n",
              "3     27            57000\n",
              "18    46            28000\n",
              "202   39           134000\n",
              "250   44            39000\n",
              "274   57            26000\n",
              "..   ...              ...\n",
              "71    24            27000\n",
              "106   26            35000\n",
              "270   43           133000\n",
              "348   39            77000\n",
              "102   32            86000\n",
              "\n",
              "[320 rows x 2 columns]"
            ],
            "text/html": [
              "\n",
              "  <div id=\"df-d15c4034-7d14-4f54-a067-203334b53d78\">\n",
              "    <div class=\"colab-df-container\">\n",
              "      <div>\n",
              "<style scoped>\n",
              "    .dataframe tbody tr th:only-of-type {\n",
              "        vertical-align: middle;\n",
              "    }\n",
              "\n",
              "    .dataframe tbody tr th {\n",
              "        vertical-align: top;\n",
              "    }\n",
              "\n",
              "    .dataframe thead th {\n",
              "        text-align: right;\n",
              "    }\n",
              "</style>\n",
              "<table border=\"1\" class=\"dataframe\">\n",
              "  <thead>\n",
              "    <tr style=\"text-align: right;\">\n",
              "      <th></th>\n",
              "      <th>Age</th>\n",
              "      <th>EstimatedSalary</th>\n",
              "    </tr>\n",
              "  </thead>\n",
              "  <tbody>\n",
              "    <tr>\n",
              "      <th>3</th>\n",
              "      <td>27</td>\n",
              "      <td>57000</td>\n",
              "    </tr>\n",
              "    <tr>\n",
              "      <th>18</th>\n",
              "      <td>46</td>\n",
              "      <td>28000</td>\n",
              "    </tr>\n",
              "    <tr>\n",
              "      <th>202</th>\n",
              "      <td>39</td>\n",
              "      <td>134000</td>\n",
              "    </tr>\n",
              "    <tr>\n",
              "      <th>250</th>\n",
              "      <td>44</td>\n",
              "      <td>39000</td>\n",
              "    </tr>\n",
              "    <tr>\n",
              "      <th>274</th>\n",
              "      <td>57</td>\n",
              "      <td>26000</td>\n",
              "    </tr>\n",
              "    <tr>\n",
              "      <th>...</th>\n",
              "      <td>...</td>\n",
              "      <td>...</td>\n",
              "    </tr>\n",
              "    <tr>\n",
              "      <th>71</th>\n",
              "      <td>24</td>\n",
              "      <td>27000</td>\n",
              "    </tr>\n",
              "    <tr>\n",
              "      <th>106</th>\n",
              "      <td>26</td>\n",
              "      <td>35000</td>\n",
              "    </tr>\n",
              "    <tr>\n",
              "      <th>270</th>\n",
              "      <td>43</td>\n",
              "      <td>133000</td>\n",
              "    </tr>\n",
              "    <tr>\n",
              "      <th>348</th>\n",
              "      <td>39</td>\n",
              "      <td>77000</td>\n",
              "    </tr>\n",
              "    <tr>\n",
              "      <th>102</th>\n",
              "      <td>32</td>\n",
              "      <td>86000</td>\n",
              "    </tr>\n",
              "  </tbody>\n",
              "</table>\n",
              "<p>320 rows × 2 columns</p>\n",
              "</div>\n",
              "      <button class=\"colab-df-convert\" onclick=\"convertToInteractive('df-d15c4034-7d14-4f54-a067-203334b53d78')\"\n",
              "              title=\"Convert this dataframe to an interactive table.\"\n",
              "              style=\"display:none;\">\n",
              "        \n",
              "  <svg xmlns=\"http://www.w3.org/2000/svg\" height=\"24px\"viewBox=\"0 0 24 24\"\n",
              "       width=\"24px\">\n",
              "    <path d=\"M0 0h24v24H0V0z\" fill=\"none\"/>\n",
              "    <path d=\"M18.56 5.44l.94 2.06.94-2.06 2.06-.94-2.06-.94-.94-2.06-.94 2.06-2.06.94zm-11 1L8.5 8.5l.94-2.06 2.06-.94-2.06-.94L8.5 2.5l-.94 2.06-2.06.94zm10 10l.94 2.06.94-2.06 2.06-.94-2.06-.94-.94-2.06-.94 2.06-2.06.94z\"/><path d=\"M17.41 7.96l-1.37-1.37c-.4-.4-.92-.59-1.43-.59-.52 0-1.04.2-1.43.59L10.3 9.45l-7.72 7.72c-.78.78-.78 2.05 0 2.83L4 21.41c.39.39.9.59 1.41.59.51 0 1.02-.2 1.41-.59l7.78-7.78 2.81-2.81c.8-.78.8-2.07 0-2.86zM5.41 20L4 18.59l7.72-7.72 1.47 1.35L5.41 20z\"/>\n",
              "  </svg>\n",
              "      </button>\n",
              "      \n",
              "  <style>\n",
              "    .colab-df-container {\n",
              "      display:flex;\n",
              "      flex-wrap:wrap;\n",
              "      gap: 12px;\n",
              "    }\n",
              "\n",
              "    .colab-df-convert {\n",
              "      background-color: #E8F0FE;\n",
              "      border: none;\n",
              "      border-radius: 50%;\n",
              "      cursor: pointer;\n",
              "      display: none;\n",
              "      fill: #1967D2;\n",
              "      height: 32px;\n",
              "      padding: 0 0 0 0;\n",
              "      width: 32px;\n",
              "    }\n",
              "\n",
              "    .colab-df-convert:hover {\n",
              "      background-color: #E2EBFA;\n",
              "      box-shadow: 0px 1px 2px rgba(60, 64, 67, 0.3), 0px 1px 3px 1px rgba(60, 64, 67, 0.15);\n",
              "      fill: #174EA6;\n",
              "    }\n",
              "\n",
              "    [theme=dark] .colab-df-convert {\n",
              "      background-color: #3B4455;\n",
              "      fill: #D2E3FC;\n",
              "    }\n",
              "\n",
              "    [theme=dark] .colab-df-convert:hover {\n",
              "      background-color: #434B5C;\n",
              "      box-shadow: 0px 1px 3px 1px rgba(0, 0, 0, 0.15);\n",
              "      filter: drop-shadow(0px 1px 2px rgba(0, 0, 0, 0.3));\n",
              "      fill: #FFFFFF;\n",
              "    }\n",
              "  </style>\n",
              "\n",
              "      <script>\n",
              "        const buttonEl =\n",
              "          document.querySelector('#df-d15c4034-7d14-4f54-a067-203334b53d78 button.colab-df-convert');\n",
              "        buttonEl.style.display =\n",
              "          google.colab.kernel.accessAllowed ? 'block' : 'none';\n",
              "\n",
              "        async function convertToInteractive(key) {\n",
              "          const element = document.querySelector('#df-d15c4034-7d14-4f54-a067-203334b53d78');\n",
              "          const dataTable =\n",
              "            await google.colab.kernel.invokeFunction('convertToInteractive',\n",
              "                                                     [key], {});\n",
              "          if (!dataTable) return;\n",
              "\n",
              "          const docLinkHtml = 'Like what you see? Visit the ' +\n",
              "            '<a target=\"_blank\" href=https://colab.research.google.com/notebooks/data_table.ipynb>data table notebook</a>'\n",
              "            + ' to learn more about interactive tables.';\n",
              "          element.innerHTML = '';\n",
              "          dataTable['output_type'] = 'display_data';\n",
              "          await google.colab.output.renderOutput(dataTable, element);\n",
              "          const docLink = document.createElement('div');\n",
              "          docLink.innerHTML = docLinkHtml;\n",
              "          element.appendChild(docLink);\n",
              "        }\n",
              "      </script>\n",
              "    </div>\n",
              "  </div>\n",
              "  "
            ]
          },
          "metadata": {},
          "execution_count": 8
        }
      ]
    },
    {
      "cell_type": "markdown",
      "metadata": {
        "id": "AsfmGeH6lZ0O"
      },
      "source": [
        "**Feature Scaling**"
      ]
    },
    {
      "cell_type": "code",
      "metadata": {
        "id": "Xfifr6tlj77A"
      },
      "source": [
        "from sklearn.preprocessing import MinMaxScaler\n",
        "s=MinMaxScaler(feature_range=(0,1))"
      ],
      "execution_count": null,
      "outputs": []
    },
    {
      "cell_type": "code",
      "source": [
        "s.fit(x_train)\n",
        "scaled_train=s.transform(x_train)\n",
        "print(scaled_train)"
      ],
      "metadata": {
        "id": "muhEYyqcINcl",
        "colab": {
          "base_uri": "https://localhost:8080/"
        },
        "outputId": "a31f2d89-10b5-465b-8f29-cf87c50fded0"
      },
      "execution_count": null,
      "outputs": [
        {
          "output_type": "stream",
          "name": "stdout",
          "text": [
            "[[0.21428571 0.31111111]\n",
            " [0.66666667 0.0962963 ]\n",
            " [0.5        0.88148148]\n",
            " [0.61904762 0.17777778]\n",
            " [0.92857143 0.08148148]\n",
            " [0.33333333 0.77777778]\n",
            " [0.54761905 0.27407407]\n",
            " [0.71428571 0.43703704]\n",
            " [0.19047619 0.52592593]\n",
            " [0.0952381  0.48888889]\n",
            " [0.73809524 0.52592593]\n",
            " [0.42857143 0.28888889]\n",
            " [0.52380952 0.32592593]\n",
            " [0.54761905 0.48148148]\n",
            " [0.19047619 0.00740741]\n",
            " [0.5        0.47407407]\n",
            " [0.97619048 0.85185185]\n",
            " [0.57142857 0.36296296]\n",
            " [0.83333333 0.94814815]\n",
            " [0.38095238 0.71851852]\n",
            " [0.92857143 0.79259259]\n",
            " [0.5        0.41481481]\n",
            " [0.69047619 0.07407407]\n",
            " [0.14285714 0.02962963]\n",
            " [0.42857143 0.25925926]\n",
            " [0.33333333 1.        ]\n",
            " [0.71428571 0.1037037 ]\n",
            " [0.28571429 0.68148148]\n",
            " [1.         0.14074074]\n",
            " [0.47619048 0.34074074]\n",
            " [0.35714286 0.11851852]\n",
            " [0.5        0.41481481]\n",
            " [0.88095238 0.17777778]\n",
            " [0.73809524 0.17777778]\n",
            " [0.5952381  0.71851852]\n",
            " [0.21428571 0.03703704]\n",
            " [0.19047619 0.01481481]\n",
            " [0.45238095 0.57777778]\n",
            " [0.57142857 0.28888889]\n",
            " [0.4047619  0.34074074]\n",
            " [0.26190476 0.44444444]\n",
            " [0.47619048 0.48148148]\n",
            " [0.64285714 0.08148148]\n",
            " [0.85714286 0.68888889]\n",
            " [0.66666667 0.05925926]\n",
            " [0.11904762 0.0962963 ]\n",
            " [0.45238095 0.44444444]\n",
            " [0.57142857 0.37037037]\n",
            " [0.4047619  0.41481481]\n",
            " [0.78571429 0.97037037]\n",
            " [0.5        0.6       ]\n",
            " [0.14285714 0.54814815]\n",
            " [0.95238095 0.59259259]\n",
            " [0.16666667 0.05185185]\n",
            " [0.54761905 0.32592593]\n",
            " [0.23809524 0.54814815]\n",
            " [0.57142857 0.48148148]\n",
            " [0.57142857 0.68888889]\n",
            " [0.66666667 0.6       ]\n",
            " [0.69047619 0.72592593]\n",
            " [0.35714286 0.0962963 ]\n",
            " [0.02380952 0.07407407]\n",
            " [0.73809524 0.54814815]\n",
            " [0.30952381 0.        ]\n",
            " [0.28571429 0.47407407]\n",
            " [0.71428571 0.93333333]\n",
            " [0.33333333 0.75555556]\n",
            " [0.45238095 0.41481481]\n",
            " [0.         0.52592593]\n",
            " [0.57142857 0.47407407]\n",
            " [0.21428571 0.51111111]\n",
            " [0.52380952 0.37037037]\n",
            " [0.92857143 0.43703704]\n",
            " [0.19047619 0.        ]\n",
            " [0.19047619 0.48148148]\n",
            " [0.26190476 0.20740741]\n",
            " [0.35714286 0.99259259]\n",
            " [0.5        0.2       ]\n",
            " [0.85714286 0.65925926]\n",
            " [0.42857143 0.13333333]\n",
            " [0.66666667 0.12592593]\n",
            " [0.52380952 0.94074074]\n",
            " [0.45238095 0.34814815]\n",
            " [0.26190476 0.98518519]\n",
            " [0.45238095 0.31111111]\n",
            " [0.4047619  0.25925926]\n",
            " [0.57142857 0.28148148]\n",
            " [0.4047619  0.17037037]\n",
            " [0.54761905 0.11111111]\n",
            " [0.52380952 0.42222222]\n",
            " [0.19047619 0.        ]\n",
            " [0.30952381 0.39259259]\n",
            " [0.4047619  0.28148148]\n",
            " [0.4047619  0.07407407]\n",
            " [0.28571429 0.54814815]\n",
            " [0.54761905 0.42222222]\n",
            " [0.23809524 0.8       ]\n",
            " [0.66666667 0.4962963 ]\n",
            " [0.0952381  0.35555556]\n",
            " [0.64285714 0.05185185]\n",
            " [0.28571429 0.25185185]\n",
            " [0.38095238 0.07407407]\n",
            " [0.52380952 0.44444444]\n",
            " [0.33333333 0.75555556]\n",
            " [0.11904762 0.4962963 ]\n",
            " [0.19047619 0.48148148]\n",
            " [0.71428571 0.85925926]\n",
            " [0.97619048 0.94814815]\n",
            " [0.4047619  0.2962963 ]\n",
            " [0.38095238 0.20740741]\n",
            " [0.5        0.34074074]\n",
            " [0.21428571 0.6       ]\n",
            " [1.         0.5037037 ]\n",
            " [0.14285714 0.2962963 ]\n",
            " [0.95238095 0.95555556]\n",
            " [0.83333333 0.65925926]\n",
            " [0.4047619  0.47407407]\n",
            " [0.42857143 0.62222222]\n",
            " [0.92857143 0.33333333]\n",
            " [0.45238095 0.9037037 ]\n",
            " [0.35714286 0.20740741]\n",
            " [0.54761905 0.41481481]\n",
            " [0.80952381 0.04444444]\n",
            " [0.80952381 1.        ]\n",
            " [0.45238095 0.40740741]\n",
            " [0.19047619 0.51111111]\n",
            " [0.19047619 0.42222222]\n",
            " [0.19047619 0.27407407]\n",
            " [0.54761905 0.33333333]\n",
            " [0.30952381 0.37777778]\n",
            " [0.45238095 0.95555556]\n",
            " [0.47619048 0.34074074]\n",
            " [0.30952381 0.14074074]\n",
            " [0.57142857 0.44444444]\n",
            " [0.66666667 0.75555556]\n",
            " [0.42857143 0.27407407]\n",
            " [0.47619048 0.41481481]\n",
            " [0.73809524 0.54074074]\n",
            " [0.92857143 0.13333333]\n",
            " [0.71428571 0.91111111]\n",
            " [0.69047619 0.25925926]\n",
            " [0.35714286 0.4       ]\n",
            " [0.45238095 0.97037037]\n",
            " [0.04761905 0.4962963 ]\n",
            " [0.52380952 0.23703704]\n",
            " [0.4047619  0.05185185]\n",
            " [0.04761905 0.15555556]\n",
            " [0.64285714 0.22222222]\n",
            " [0.19047619 0.20740741]\n",
            " [0.95238095 0.63703704]\n",
            " [0.52380952 0.31111111]\n",
            " [0.47619048 0.71851852]\n",
            " [0.45238095 0.48148148]\n",
            " [0.73809524 0.0962963 ]\n",
            " [0.42857143 0.44444444]\n",
            " [0.54761905 0.42222222]\n",
            " [0.4047619  0.33333333]\n",
            " [0.5952381  0.84444444]\n",
            " [0.54761905 0.53333333]\n",
            " [0.47619048 0.72592593]\n",
            " [0.95238095 0.05925926]\n",
            " [0.19047619 0.12592593]\n",
            " [0.33333333 0.02222222]\n",
            " [0.54761905 0.27407407]\n",
            " [0.30952381 0.02222222]\n",
            " [0.4047619  0.54074074]\n",
            " [0.71428571 0.14814815]\n",
            " [0.21428571 0.54814815]\n",
            " [0.4047619  0.60740741]\n",
            " [0.57142857 0.42962963]\n",
            " [0.07142857 0.39259259]\n",
            " [0.54761905 0.42222222]\n",
            " [0.35714286 0.33333333]\n",
            " [0.5        0.88148148]\n",
            " [0.23809524 0.51111111]\n",
            " [0.66666667 0.54074074]\n",
            " [0.14285714 0.31851852]\n",
            " [0.30952381 0.76296296]\n",
            " [0.76190476 0.54074074]\n",
            " [0.04761905 0.4962963 ]\n",
            " [0.33333333 0.88888889]\n",
            " [0.04761905 0.52592593]\n",
            " [0.4047619  0.08888889]\n",
            " [0.26190476 0.20740741]\n",
            " [0.07142857 0.54074074]\n",
            " [0.4047619  0.32592593]\n",
            " [0.64285714 0.12592593]\n",
            " [1.         0.2       ]\n",
            " [0.4047619  0.56296296]\n",
            " [0.4047619  0.21481481]\n",
            " [0.         0.21481481]\n",
            " [0.57142857 0.99259259]\n",
            " [0.64285714 0.47407407]\n",
            " [0.52380952 0.33333333]\n",
            " [0.14285714 0.05925926]\n",
            " [0.35714286 0.26666667]\n",
            " [0.57142857 0.40740741]\n",
            " [0.88095238 0.85185185]\n",
            " [0.76190476 0.21481481]\n",
            " [0.71428571 0.77037037]\n",
            " [0.02380952 0.45185185]\n",
            " [0.54761905 0.42222222]\n",
            " [0.52380952 0.41481481]\n",
            " [0.21428571 0.54074074]\n",
            " [0.42857143 0.82222222]\n",
            " [0.4047619  0.44444444]\n",
            " [0.4047619  0.31851852]\n",
            " [0.38095238 0.74074074]\n",
            " [0.4047619  0.42962963]\n",
            " [1.         0.68888889]\n",
            " [0.16666667 0.53333333]\n",
            " [0.21428571 0.28888889]\n",
            " [0.07142857 0.00740741]\n",
            " [0.45238095 0.43703704]\n",
            " [0.4047619  0.17777778]\n",
            " [0.85714286 0.40740741]\n",
            " [0.69047619 0.11111111]\n",
            " [0.47619048 0.25925926]\n",
            " [0.4047619  0.97777778]\n",
            " [0.4047619  0.45925926]\n",
            " [0.54761905 0.47407407]\n",
            " [0.45238095 0.13333333]\n",
            " [1.         0.22962963]\n",
            " [0.23809524 0.32592593]\n",
            " [0.11904762 0.37777778]\n",
            " [0.11904762 0.35555556]\n",
            " [0.28571429 0.01481481]\n",
            " [0.16666667 0.13333333]\n",
            " [0.97619048 0.5037037 ]\n",
            " [0.95238095 0.17037037]\n",
            " [0.         0.4962963 ]\n",
            " [0.66666667 0.32592593]\n",
            " [0.21428571 0.01481481]\n",
            " [0.95238095 0.23703704]\n",
            " [0.71428571 0.11111111]\n",
            " [0.73809524 0.37037037]\n",
            " [0.76190476 0.15555556]\n",
            " [0.83333333 0.42222222]\n",
            " [0.52380952 0.31111111]\n",
            " [0.80952381 0.73333333]\n",
            " [0.97619048 0.2       ]\n",
            " [0.42857143 0.35555556]\n",
            " [0.57142857 0.65925926]\n",
            " [0.45238095 0.27407407]\n",
            " [0.71428571 0.13333333]\n",
            " [0.97619048 0.1037037 ]\n",
            " [0.45238095 0.47407407]\n",
            " [0.52380952 0.34074074]\n",
            " [0.73809524 0.43703704]\n",
            " [0.16666667 0.55555556]\n",
            " [0.28571429 0.        ]\n",
            " [0.52380952 0.46666667]\n",
            " [0.14285714 0.51111111]\n",
            " [0.47619048 0.25925926]\n",
            " [0.64285714 0.85925926]\n",
            " [0.07142857 0.42222222]\n",
            " [0.4047619  0.05925926]\n",
            " [0.4047619  0.03703704]\n",
            " [0.30952381 0.54814815]\n",
            " [0.28571429 0.48148148]\n",
            " [0.69047619 0.23703704]\n",
            " [0.21428571 0.55555556]\n",
            " [0.4047619  0.42222222]\n",
            " [0.28571429 0.74814815]\n",
            " [0.5        0.79259259]\n",
            " [0.26190476 0.5037037 ]\n",
            " [0.54761905 0.35555556]\n",
            " [0.71428571 0.55555556]\n",
            " [0.47619048 0.32592593]\n",
            " [0.33333333 0.02222222]\n",
            " [0.5        0.44444444]\n",
            " [0.19047619 0.48888889]\n",
            " [0.5        0.67407407]\n",
            " [0.0952381  0.2962963 ]\n",
            " [0.42857143 0.76296296]\n",
            " [1.         0.2       ]\n",
            " [0.23809524 0.2962963 ]\n",
            " [0.78571429 0.88148148]\n",
            " [0.73809524 0.0962963 ]\n",
            " [0.42857143 0.33333333]\n",
            " [0.9047619  0.65925926]\n",
            " [0.21428571 0.31851852]\n",
            " [0.14285714 0.12592593]\n",
            " [0.38095238 0.42222222]\n",
            " [0.23809524 0.12592593]\n",
            " [0.76190476 0.03703704]\n",
            " [0.35714286 0.19259259]\n",
            " [0.26190476 0.23703704]\n",
            " [0.0952381  0.02222222]\n",
            " [0.28571429 0.88888889]\n",
            " [0.69047619 0.66666667]\n",
            " [0.66666667 0.47407407]\n",
            " [0.71428571 0.88148148]\n",
            " [0.69047619 0.25185185]\n",
            " [0.73809524 0.93333333]\n",
            " [0.33333333 0.62962963]\n",
            " [0.47619048 0.41481481]\n",
            " [0.02380952 0.08148148]\n",
            " [0.45238095 0.45925926]\n",
            " [0.69047619 0.26666667]\n",
            " [0.52380952 0.31111111]\n",
            " [0.42857143 0.81481481]\n",
            " [0.04761905 0.43703704]\n",
            " [0.30952381 0.31851852]\n",
            " [0.54761905 0.22222222]\n",
            " [0.57142857 0.28888889]\n",
            " [0.23809524 0.16296296]\n",
            " [0.5        0.42962963]\n",
            " [0.23809524 0.51851852]\n",
            " [0.47619048 0.26666667]\n",
            " [0.69047619 0.20740741]\n",
            " [0.45238095 0.42222222]\n",
            " [0.73809524 0.15555556]\n",
            " [0.64285714 0.05185185]\n",
            " [0.4047619  0.42222222]\n",
            " [0.14285714 0.08888889]\n",
            " [0.19047619 0.14814815]\n",
            " [0.5952381  0.87407407]\n",
            " [0.5        0.45925926]\n",
            " [0.33333333 0.52592593]]\n"
          ]
        }
      ]
    },
    {
      "cell_type": "code",
      "source": [
        "s.fit(x_test)\n",
        "scaled_test=s.transform(x_test)\n",
        "print(scaled_test)"
      ],
      "metadata": {
        "colab": {
          "base_uri": "https://localhost:8080/"
        },
        "id": "hP4RZZcxIczh",
        "outputId": "0122db90-23bb-4490-acb2-6b636c2d2ccf"
      },
      "execution_count": null,
      "outputs": [
        {
          "output_type": "stream",
          "name": "stdout",
          "text": [
            "[[0.66666667 0.024     ]\n",
            " [0.97619048 0.552     ]\n",
            " [0.23809524 0.2       ]\n",
            " [0.71428571 0.616     ]\n",
            " [0.26190476 0.072     ]\n",
            " [0.28571429 0.344     ]\n",
            " [0.69047619 0.704     ]\n",
            " [0.26190476 0.512     ]\n",
            " [0.52380952 0.448     ]\n",
            " [0.57142857 0.368     ]\n",
            " [0.4047619  0.368     ]\n",
            " [0.83333333 0.12      ]\n",
            " [0.11904762 0.232     ]\n",
            " [0.04761905 0.032     ]\n",
            " [0.28571429 0.544     ]\n",
            " [0.4047619  0.712     ]\n",
            " [0.80952381 0.152     ]\n",
            " [0.66666667 0.44      ]\n",
            " [0.5        0.184     ]\n",
            " [0.9047619  0.328     ]\n",
            " [0.0952381  0.064     ]\n",
            " [0.26190476 0.488     ]\n",
            " [0.69047619 0.032     ]\n",
            " [0.97619048 0.456     ]\n",
            " [0.02380952 0.        ]\n",
            " [0.78571429 0.032     ]\n",
            " [0.57142857 0.488     ]\n",
            " [0.45238095 0.272     ]\n",
            " [0.88095238 0.848     ]\n",
            " [0.02380952 0.016     ]\n",
            " [0.66666667 0.176     ]\n",
            " [0.02380952 0.408     ]\n",
            " [0.42857143 1.        ]\n",
            " [0.23809524 0.48      ]\n",
            " [0.52380952 0.704     ]\n",
            " [0.4047619  0.448     ]\n",
            " [0.45238095 0.288     ]\n",
            " [0.47619048 0.368     ]\n",
            " [0.19047619 0.088     ]\n",
            " [0.         0.392     ]\n",
            " [0.71428571 0.112     ]\n",
            " [0.14285714 0.288     ]\n",
            " [0.         0.264     ]\n",
            " [0.69047619 0.008     ]\n",
            " [0.04761905 0.24      ]\n",
            " [0.61904762 0.96      ]\n",
            " [0.26190476 0.336     ]\n",
            " [0.30952381 0.416     ]\n",
            " [0.71428571 0.176     ]\n",
            " [0.38095238 0.192     ]\n",
            " [0.16666667 0.48      ]\n",
            " [0.83333333 0.504     ]\n",
            " [0.47619048 0.288     ]\n",
            " [0.16666667 0.488     ]\n",
            " [0.45238095 0.488     ]\n",
            " [0.21428571 0.096     ]\n",
            " [1.         0.664     ]\n",
            " [0.19047619 0.792     ]\n",
            " [0.30952381 0.44      ]\n",
            " [0.30952381 0.456     ]\n",
            " [0.54761905 0.256     ]\n",
            " [0.4047619  0.304     ]\n",
            " [0.80952381 0.568     ]\n",
            " [0.23809524 0.544     ]\n",
            " [0.23809524 0.32      ]\n",
            " [0.21428571 0.944     ]\n",
            " [0.57142857 0.568     ]\n",
            " [0.69047619 1.        ]\n",
            " [0.5        0.32      ]\n",
            " [0.35714286 0.752     ]\n",
            " [0.80952381 0.952     ]\n",
            " [0.02380952 0.528     ]\n",
            " [0.21428571 0.312     ]\n",
            " [0.11904762 0.008     ]\n",
            " [0.69047619 0.12      ]\n",
            " [0.4047619  0.248     ]\n",
            " [0.9047619  0.912     ]\n",
            " [0.85714286 0.056     ]\n",
            " [0.4047619  0.224     ]\n",
            " [0.45238095 0.472     ]]\n"
          ]
        }
      ]
    },
    {
      "cell_type": "markdown",
      "metadata": {
        "id": "UkiSpylklf7z"
      },
      "source": [
        "**Step 2 | Logistic Regression Model**"
      ]
    },
    {
      "cell_type": "markdown",
      "metadata": {
        "id": "rhZgd1t_mfYg"
      },
      "source": [
        "The library for this job which is going to be the linear model library and it is called linear because the logistic regression is a linear classifier which means that here since we're in two dimensions, our two categories of users are going to be separated by a straight line. Then import the logistic regression class. Next we will create a new object from this class which is going to be our classifier that we are going to fit on our training set."
      ]
    },
    {
      "cell_type": "markdown",
      "metadata": {
        "id": "oCUEcLBflmPn"
      },
      "source": [
        "**Fitting Logistic Regression to the Training set**"
      ]
    },
    {
      "cell_type": "code",
      "metadata": {
        "id": "l8YSpSphj8FN",
        "colab": {
          "base_uri": "https://localhost:8080/"
        },
        "outputId": "9f031d61-8ded-4174-c54c-3d414ca1823b"
      },
      "source": [
        "from sklearn.linear_model import LogisticRegression\n",
        "lr=LogisticRegression()\n",
        "lr.fit(scaled_train,y_train)"
      ],
      "execution_count": null,
      "outputs": [
        {
          "output_type": "execute_result",
          "data": {
            "text/plain": [
              "LogisticRegression()"
            ]
          },
          "metadata": {},
          "execution_count": 12
        }
      ]
    },
    {
      "cell_type": "markdown",
      "metadata": {
        "id": "0DpkLwdRlvXX"
      },
      "source": [
        "**Step 3 | Predection**"
      ]
    },
    {
      "cell_type": "code",
      "metadata": {
        "id": "5X1PxviQlp0C",
        "colab": {
          "base_uri": "https://localhost:8080/"
        },
        "outputId": "3ae86601-b31a-40c7-b3db-2e24a87204a7"
      },
      "source": [
        "lr.predict(scaled_test)"
      ],
      "execution_count": null,
      "outputs": [
        {
          "output_type": "execute_result",
          "data": {
            "text/plain": [
              "array([0, 1, 0, 1, 0, 0, 1, 0, 0, 0, 0, 1, 0, 0, 0, 0, 1, 1, 0, 1, 0, 0,\n",
              "       0, 1, 0, 0, 0, 0, 1, 0, 0, 0, 1, 0, 1, 0, 0, 0, 0, 0, 0, 0, 0, 0,\n",
              "       0, 1, 0, 0, 0, 0, 0, 1, 0, 0, 0, 0, 1, 0, 0, 0, 0, 0, 1, 0, 0, 0,\n",
              "       1, 1, 0, 0, 1, 0, 0, 0, 0, 0, 1, 1, 0, 0])"
            ]
          },
          "metadata": {},
          "execution_count": 13
        }
      ]
    },
    {
      "cell_type": "markdown",
      "metadata": {
        "id": "vdX1IU-Fl7Ak"
      },
      "source": [
        "**Step 4 | Evaluating The Predection**"
      ]
    },
    {
      "cell_type": "markdown",
      "metadata": {
        "id": "zPdZLTTQmqa9"
      },
      "source": [
        "We predicted the test results and now we will evaluate if our logistic regression model learned and understood correctly. So this confusion matrix is going to contain the correct predictions that our model made on the set as well as the incorrect predictions."
      ]
    },
    {
      "cell_type": "markdown",
      "metadata": {
        "id": "bxjKgSYvmBDn"
      },
      "source": [
        "**Making the Confusion Matrix**"
      ]
    },
    {
      "cell_type": "code",
      "metadata": {
        "id": "2_afjfcjlp88",
        "colab": {
          "base_uri": "https://localhost:8080/"
        },
        "outputId": "5fe3201e-5437-4cab-ca09-71ee280a84b0"
      },
      "source": [
        "from sklearn.metrics import confusion_matrix\n",
        "confusion_matrix(y_test, lr.predict(scaled_test))"
      ],
      "execution_count": null,
      "outputs": [
        {
          "output_type": "execute_result",
          "data": {
            "text/plain": [
              "array([[51,  1],\n",
              "       [ 9, 19]])"
            ]
          },
          "metadata": {},
          "execution_count": 14
        }
      ]
    },
    {
      "cell_type": "code",
      "source": [
        "from sklearn.metrics import accuracy_score\n",
        "accuracy_score(y_test, lr.predict(scaled_test))"
      ],
      "metadata": {
        "colab": {
          "base_uri": "https://localhost:8080/"
        },
        "id": "vVo6sLdlMdW7",
        "outputId": "d228c0a2-afa8-4e32-ac02-603b9f3d3b44"
      },
      "execution_count": null,
      "outputs": [
        {
          "output_type": "execute_result",
          "data": {
            "text/plain": [
              "0.875"
            ]
          },
          "metadata": {},
          "execution_count": 15
        }
      ]
    },
    {
      "cell_type": "markdown",
      "metadata": {
        "id": "DARs2T8GmG3v"
      },
      "source": [
        "**Visualization**"
      ]
    },
    {
      "cell_type": "code",
      "metadata": {
        "id": "v_qMnhVilqBW"
      },
      "source": [
        "from sklearn.metrics import plot_confusion_matrix"
      ],
      "execution_count": null,
      "outputs": []
    },
    {
      "cell_type": "code",
      "metadata": {
        "id": "QBiu7oxRlqGj"
      },
      "source": [
        "import matplotlib.pyplot as plt"
      ],
      "execution_count": null,
      "outputs": []
    },
    {
      "cell_type": "code",
      "source": [
        "plot_confusion_matrix(lr, scaled_train, y_train)  \n",
        "plt.show()"
      ],
      "metadata": {
        "colab": {
          "base_uri": "https://localhost:8080/",
          "height": 334
        },
        "id": "V66hT1ockkxj",
        "outputId": "788bdf46-4835-4e9f-ef67-3850a5afc175"
      },
      "execution_count": null,
      "outputs": [
        {
          "output_type": "stream",
          "name": "stderr",
          "text": [
            "/usr/local/lib/python3.7/dist-packages/sklearn/utils/deprecation.py:87: FutureWarning: Function plot_confusion_matrix is deprecated; Function `plot_confusion_matrix` is deprecated in 1.0 and will be removed in 1.2. Use one of the class methods: ConfusionMatrixDisplay.from_predictions or ConfusionMatrixDisplay.from_estimator.\n",
            "  warnings.warn(msg, category=FutureWarning)\n"
          ]
        },
        {
          "output_type": "display_data",
          "data": {
            "text/plain": [
              "<Figure size 432x288 with 2 Axes>"
            ],
            "image/png": "[encoded data removed]"
          },
          "metadata": {
            "needs_background": "light"
          }
        }
      ]
    },
    {
      "cell_type": "code",
      "metadata": {
        "id": "qLGVB79kj8KK",
        "colab": {
          "base_uri": "https://localhost:8080/",
          "height": 334
        },
        "outputId": "659785d6-3786-4a97-838c-21891283654b"
      },
      "source": [
        "plot_confusion_matrix(lr, scaled_test, y_test)  \n",
        "plt.show()"
      ],
      "execution_count": null,
      "outputs": [
        {
          "output_type": "stream",
          "name": "stderr",
          "text": [
            "/usr/local/lib/python3.7/dist-packages/sklearn/utils/deprecation.py:87: FutureWarning: Function plot_confusion_matrix is deprecated; Function `plot_confusion_matrix` is deprecated in 1.0 and will be removed in 1.2. Use one of the class methods: ConfusionMatrixDisplay.from_predictions or ConfusionMatrixDisplay.from_estimator.\n",
            "  warnings.warn(msg, category=FutureWarning)\n"
          ]
        },
        {
          "output_type": "display_data",
          "data": {
            "text/plain": [
              "<Figure size 432x288 with 2 Axes>"
            ],
            "image/png": "[encoded data removed]"
          },
          "metadata": {
            "needs_background": "light"
          }
        }
      ]
    }
  ]
}